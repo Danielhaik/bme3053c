{
  "nbformat": 4,
  "nbformat_minor": 0,
  "metadata": {
    "colab": {
      "provenance": [],
      "authorship_tag": "ABX9TyMu2fiKs7eIteh5f/9KuB9v",
      "include_colab_link": true
    },
    "kernelspec": {
      "name": "python3",
      "display_name": "Python 3"
    },
    "language_info": {
      "name": "python"
    }
  },
  "cells": [
    {
      "cell_type": "markdown",
      "metadata": {
        "id": "view-in-github",
        "colab_type": "text"
      },
      "source": [
        "<a href=\"https://colab.research.google.com/github/Danielhaik/bme3053c/blob/main/HW2_DanielHaik.ipynb\" target=\"_parent\"><img src=\"https://colab.research.google.com/assets/colab-badge.svg\" alt=\"Open In Colab\"/></a>"
      ]
    },
    {
      "cell_type": "code",
      "execution_count": 3,
      "metadata": {
        "colab": {
          "base_uri": "https://localhost:8080/"
        },
        "id": "MJ41TQND3NwJ",
        "outputId": "5dc5c78c-2019-46ee-b97e-57b02d1bb4ab"
      },
      "outputs": [
        {
          "output_type": "stream",
          "name": "stdout",
          "text": [
            "[0.0, 0.32075471698113206, 0.5849056603773585, 0.05660377358490566, 0.7924528301886793, 1.0, 0.1320754716981132, 0.6415094339622641]\n"
          ]
        }
      ],
      "source": [
        "bp_readings = [120, 137, 151, 123, 162, 173, 127, 154]\n",
        "def normalized (bp_readings):\n",
        "  min_value = min(bp_readings)\n",
        "  max_value = max(bp_readings)\n",
        "  for i in range(len(bp_readings)):\n",
        "    bp_readings[i] = (bp_readings[i]-min_value)/(max_value-min_value)\n",
        "    continue\n",
        "  print (bp_readings)\n",
        "normalized(bp_readings)"
      ]
    }
  ]
}