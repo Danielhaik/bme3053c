{
  "nbformat": 4,
  "nbformat_minor": 0,
  "metadata": {
    "colab": {
      "provenance": [],
      "authorship_tag": "ABX9TyOCRNZo8okWCBsZJxLCSU5F",
      "include_colab_link": true
    },
    "kernelspec": {
      "name": "python3",
      "display_name": "Python 3"
    },
    "language_info": {
      "name": "python"
    }
  },
  "cells": [
    {
      "cell_type": "markdown",
      "metadata": {
        "id": "view-in-github",
        "colab_type": "text"
      },
      "source": [
        "<a href=\"https://colab.research.google.com/github/Danielhaik/bme3053c/blob/main/Haik_Daniel_HW3ipynb.ipynb\" target=\"_parent\"><img src=\"https://colab.research.google.com/assets/colab-badge.svg\" alt=\"Open In Colab\"/></a>"
      ]
    },
    {
      "cell_type": "code",
      "execution_count": 2,
      "metadata": {
        "colab": {
          "base_uri": "https://localhost:8080/"
        },
        "id": "hoXXP_7zjf1X",
        "outputId": "1051f333-8f42-499c-f69a-f409f49f0322"
      },
      "outputs": [
        {
          "output_type": "stream",
          "name": "stdout",
          "text": [
            "The number of peaks in this PPG signal:  29\n"
          ]
        }
      ],
      "source": [
        "import math\n",
        "import random\n",
        "ppg_signal = [1000 + 100 * math.sin(0.1 * x) + random.randint(-20, 20) for x in range(100)]\n",
        "num_peaks = 0\n",
        "def peak_function (ppg_signal, num_peaks):\n",
        "  for x in range(len(ppg_signal)):\n",
        "    if (ppg_signal[x] > ppg_signal[x - 1]) and (ppg_signal[x] > ppg_signal[x+ 1]):\n",
        "      num_peaks = num_peaks + 1\n",
        "  print(\"The number of peaks in this PPG signal: \", num_peaks)\n",
        "peak_function(ppg_signal, num_peaks)"
      ]
    }
  ]
}